{
  "metadata": {
    "language_info": {
      "codemirror_mode": {
        "name": "python",
        "version": 3
      },
      "file_extension": ".py",
      "mimetype": "text/x-python",
      "name": "python",
      "nbconvert_exporter": "python",
      "pygments_lexer": "ipython3",
      "version": "3.8"
    },
    "kernelspec": {
      "name": "python",
      "display_name": "Python (Pyodide)",
      "language": "python"
    }
  },
  "nbformat_minor": 4,
  "nbformat": 4,
  "cells": [
    {
      "cell_type": "markdown",
      "source": "<h1> Data Science Tools and Ecosystem </h1>",
      "metadata": {
        "tags": []
      }
    },
    {
      "cell_type": "markdown",
      "source": "In this notebook, Data Science Tools and Ecosystem are summarized.",
      "metadata": {}
    },
    {
      "cell_type": "markdown",
      "source": "<b> Objectives: </b>\n<ul>\n    <li>List popular languages for Data Science</li>\n    <li>List commonly used libraries used by Data Scientists</li>\n    <li>List commonly used Data Science Tools/li>\n    <li>Understand examples of evaluating arithmetic expressions in Python</li>\n</ul>",
      "metadata": {}
    },
    {
      "cell_type": "markdown",
      "source": "Some of the popular languages that Data Scientists use are:\n<ol>\n    <li>Python</li>\n    <li>Java</li>\n    <li>R</li>\n    <li>Julia</li>\n</ol>",
      "metadata": {}
    },
    {
      "cell_type": "markdown",
      "source": "Some of the commonly used libraries used by Data Scientists include:\n  <ol>\n    <li>Numpy</li>\n    <li>Pandas</li>\n    <li>MatPlotLib</li>\n     <li>SciPy</li>\n</ol>",
      "metadata": {}
    },
    {
      "cell_type": "markdown",
      "source": "<table align=left>\n<th>Data Science Tools<th>\n<tr><td>Jupyter notebooks</td></tr>\n<tr><td>RStudio</td></tr>\n<tr><td>Zeppelin Notebooks</td></tr>\n<tr><td>Anaconda</td></tr>\n</table>",
      "metadata": {}
    },
    {
      "cell_type": "markdown",
      "source": "<h3> Below are a few examples of evaluating arithmetic expressions in Python </h3>",
      "metadata": {}
    },
    {
      "cell_type": "code",
      "source": "    # This a simple arithmetic expression to mutiply then add integers\n    (3*4)+5",
      "metadata": {
        "tags": [],
        "trusted": true
      },
      "execution_count": 1,
      "outputs": [
        {
          "execution_count": 1,
          "output_type": "execute_result",
          "data": {
            "text/plain": "17"
          },
          "metadata": {}
        }
      ]
    },
    {
      "cell_type": "code",
      "source": "    # This will convert 200 minutes to hours by diving by 60\n    (200/60)",
      "metadata": {
        "trusted": true
      },
      "execution_count": 2,
      "outputs": [
        {
          "execution_count": 2,
          "output_type": "execute_result",
          "data": {
            "text/plain": "3.3333333333333335"
          },
          "metadata": {}
        }
      ]
    },
    {
      "cell_type": "markdown",
      "source": "<h2>Author</h2>\nFrank Zimbello",
      "metadata": {}
    }
  ]
}